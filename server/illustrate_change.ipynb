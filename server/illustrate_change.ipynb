{
 "metadata": {
  "language_info": {
   "codemirror_mode": {
    "name": "ipython",
    "version": 3
   },
   "file_extension": ".py",
   "mimetype": "text/x-python",
   "name": "python",
   "nbconvert_exporter": "python",
   "pygments_lexer": "ipython3",
   "version": "3.7.6-final"
  },
  "orig_nbformat": 2,
  "kernelspec": {
   "name": "python3",
   "display_name": "Python 3"
  }
 },
 "nbformat": 4,
 "nbformat_minor": 2,
 "cells": [
  {
   "cell_type": "code",
   "execution_count": 139,
   "metadata": {},
   "outputs": [],
   "source": [
    "import pandas as pd\n",
    "import json\n",
    "from collections import defaultdict\n",
    "import numpy as np\n",
    "from tqdm.notebook import tqdm_notebook as tqdm"
   ]
  },
  {
   "cell_type": "code",
   "execution_count": 3,
   "metadata": {},
   "outputs": [
    {
     "output_type": "execute_result",
     "data": {
      "text/plain": [
       "dict_keys(['name', 'language', 'title', 'description', 'author', 'license', 'created', 'resources', 'ddfSchema'])"
      ]
     },
     "metadata": {},
     "execution_count": 3
    }
   ],
   "source": [
    "with open('./tmp.json') as f:\n",
    "    concepts = json.load(f)\n",
    "concepts.keys()"
   ]
  },
  {
   "cell_type": "code",
   "execution_count": 39,
   "metadata": {
    "tags": []
   },
   "outputs": [
    {
     "output_type": "stream",
     "name": "stdout",
     "text": [
      "1 ['abscorrup_idea', 'ajustice_idea', 'bwelfr_idea', 'c_checkgvt_idea', 'c_civsocpart_idea', 'c_demox_eiu', 'c_dirdemo_idea', 'c_elecparti_idea', 'c_fundright_idea', 'c_impadmin_idea', 'c_locdemo_idea', 'c_rgvt_idea', 'celec_idea', 'checkgvt_idea', 'civlibx_eiu', 'civsocpart_idea', 'cliberities_fh', 'cliberties_idea', 'compt_plastic_wst', 'demox_eiu', 'dirdemo_idea', 'efparlt_idea', 'elecparti_idea', 'electoplx_eiu', 'elgov_idea', 'emigrant_n', 'emigrant_pc', 'fassoas_idea', 'female_hos', 'fexpression_idea', 'fmvt_idea', 'fppart_idea', 'freedix_fh', 'freedstatus_fh', 'freligion_idea', 'fundright_idea', 'gendereq_idea', 'gini', 'gvtx_eiu', 'ihme_cardio_death', 'ihme_conflict_death', 'ihme_hiv_death', 'ilevels3_wb', 'ilevels4_wb', 'immigrant_n', 'immigrant_pc', 'impadmin_idea', 'isuffrage_idea', 'judicindep_idea', 'locdemo_idea', 'mediaint_idea', 'ndisasd_noep_rate', 'ndisasd_noep_tot', 'ndisasd_rate', 'ndisasd_tot', 'num_countries_fhos', 'percit_1_5m', 'percit_300_500k', 'percit_500k_1m', 'percit_5_10m', 'percit_less_300k', 'percit_more_10m', 'pisec_idea', 'polcultx_eiu', 'polpartix_eiu', 'polrights_fh', 'popcit_1_5m', 'popcit_300_500k', 'popcit_500k_1m', 'popcit_5_10m', 'popcit_less_300k', 'popcit_more_10m', 'prenforct_idea', 'refugee_from_perc_wb', 'rgov_idea', 'sgeq_idea', 'sorigeq_idea', 'u5pop', 'u5stunted_prc', 'vacc_rate', 'vccin_effect_dag', 'vccin_sfty_dag', 'vccine_imptn_dag', 'is--country', 'iso3166_1_alpha2', 'iso3166_1_alpha3', 'iso3166_1_numeric', 'iso3166_2', 'un_state', 'is--g77_and_oecd_countries', 'is--global', 'topojson', 'is--income_3groups', 'is--income_groups', 'is--landlocked', 'is--main_religion_2008', 'is--un_sdg_ldc', 'is--un_sdg_region', 'is--unicef_region', 'description', 'is--world_4region', 'is--world_6region', 'tag', 'parent']\n2 ['journakilled', 'g77_and_oecd_countries', 'income_groups', 'unicode_region_subtag', 'landlocked', 'main_religion_2008', 'world_6region', 'unicef_region', 'income_3groups', 'un_sdg_region', 'un_sdg_ldc', 'color', 'name_long', 'name_short', 'shape_lores_svg']\n3 ['refugee_in_perc_wb', 'latitude', 'longitude']\n6 ['world_4region']\n7 ['rank']\n13 ['name']\n25 ['global']\n61 ['country']\n88 ['time']\n"
     ]
    }
   ],
   "source": [
    "counter = defaultdict(lambda :0)\n",
    "appear = defaultdict(lambda :[])\n",
    "for resource in concepts['resources'][1:]:\n",
    "    r_name = resource['name']\n",
    "    for d in resource['schema']['fields']:\n",
    "        counter[d['name']] += 1\n",
    "        appear[d['name']].append(r_name)\n",
    "cnt2ind = defaultdict(lambda: [])\n",
    "for k, v in counter.items():\n",
    "    cnt2ind[v].append(k)\n",
    "for cnt in sorted(cnt2ind.keys()):\n",
    "    print(cnt, cnt2ind[cnt])"
   ]
  },
  {
   "cell_type": "code",
   "execution_count": 40,
   "metadata": {},
   "outputs": [
    {
     "output_type": "execute_result",
     "data": {
      "text/plain": [
       "             name               region  \\\n",
       "0          Angola   Sub-Saharan Africa   \n",
       "1           Benin   Sub-Saharan Africa   \n",
       "2        Botswana   Sub-Saharan Africa   \n",
       "3    Burkina Faso   Sub-Saharan Africa   \n",
       "4         Burundi   Sub-Saharan Africa   \n",
       "..            ...                  ...   \n",
       "175   Timor-Leste  East Asia & Pacific   \n",
       "176       Tokelau  East Asia & Pacific   \n",
       "177         Tonga  East Asia & Pacific   \n",
       "178       Vietnam  East Asia & Pacific   \n",
       "179       Vanuatu  East Asia & Pacific   \n",
       "\n",
       "                                                income  \\\n",
       "0    [[1800, 359.93], [1820, 359.93], [1913, 556.12...   \n",
       "1    [[1800, 553.72], [1820, 553.72], [1913, 855.53...   \n",
       "2    [[1800, 407.36], [1820, 407.36], [1913, 629.4]...   \n",
       "3    [[1800, 454.33], [1820, 454.33], [1913, 497.44...   \n",
       "4    [[1800, 447.59], [1820, 447.59], [1913, 353.82...   \n",
       "..                                                 ...   \n",
       "175  [[1800, 514.12], [1820, 518.73], [1850, 539.86...   \n",
       "176                                   [[2005, 889.43]]   \n",
       "177  [[1800, 667.71], [1820, 667.71], [1913, 902.69...   \n",
       "178  [[1800, 459.71], [1820, 459.71], [1870, 440.8]...   \n",
       "179  [[1800, 829.58], [1820, 829.58], [1913, 1121.5...   \n",
       "\n",
       "                                            population  \\\n",
       "0    [[1800, 1567028], [1820, 1567028], [1940, 3738...   \n",
       "1    [[1800, 636559], [1820, 636559], [1950, 167266...   \n",
       "2    [[1800, 121000], [1904, 121000], [1911, 125000...   \n",
       "3    [[1800, 1665421], [1820, 1665421], [1950, 4376...   \n",
       "4    [[1800, 899097], [1820, 899097], [1950, 236252...   \n",
       "..                                                 ...   \n",
       "175  [[1800, 137262], [1820, 137262], [1926, 442000...   \n",
       "176  [[1800, 1009], [1843, 1000], [1850, 1000], [19...   \n",
       "177  [[1800, 18658], [1843, 18500], [1850, 18500], ...   \n",
       "178  [[1800, 6551000], [1820, 6551000], [1870, 1052...   \n",
       "179  [[1800, 27791], [1820, 27791], [1950, 52000], ...   \n",
       "\n",
       "                                        lifeExpectancy  \n",
       "0    [[1800, 26.98], [1940, 26.98], [1950, 29.22], ...  \n",
       "1    [[1800, 31], [1944, 31], [1950, 36.53], [1951,...  \n",
       "2    [[1800, 33.6], [1945, 33.6], [1950, 46.82], [1...  \n",
       "3    [[1800, 29.2], [1945, 29.2], [1950, 32.89], [1...  \n",
       "4    [[1800, 31.5], [1945, 31.5], [1950, 38.42], [1...  \n",
       "..                                                 ...  \n",
       "175  [[1950, 28.97], [1951, 29.22], [1952, 29.73], ...  \n",
       "176                                       [[2006, 69]]  \n",
       "177  [[1950, 57.91], [1951, 58.1], [1952, 58.47], [...  \n",
       "178  [[1800, 32], [1930, 32], [1936, 33], [1950, 39...  \n",
       "179  [[1950, 40.8], [1951, 41.1], [1952, 41.7], [19...  \n",
       "\n",
       "[180 rows x 5 columns]"
      ],
      "text/html": "<div>\n<style scoped>\n    .dataframe tbody tr th:only-of-type {\n        vertical-align: middle;\n    }\n\n    .dataframe tbody tr th {\n        vertical-align: top;\n    }\n\n    .dataframe thead th {\n        text-align: right;\n    }\n</style>\n<table border=\"1\" class=\"dataframe\">\n  <thead>\n    <tr style=\"text-align: right;\">\n      <th></th>\n      <th>name</th>\n      <th>region</th>\n      <th>income</th>\n      <th>population</th>\n      <th>lifeExpectancy</th>\n    </tr>\n  </thead>\n  <tbody>\n    <tr>\n      <th>0</th>\n      <td>Angola</td>\n      <td>Sub-Saharan Africa</td>\n      <td>[[1800, 359.93], [1820, 359.93], [1913, 556.12...</td>\n      <td>[[1800, 1567028], [1820, 1567028], [1940, 3738...</td>\n      <td>[[1800, 26.98], [1940, 26.98], [1950, 29.22], ...</td>\n    </tr>\n    <tr>\n      <th>1</th>\n      <td>Benin</td>\n      <td>Sub-Saharan Africa</td>\n      <td>[[1800, 553.72], [1820, 553.72], [1913, 855.53...</td>\n      <td>[[1800, 636559], [1820, 636559], [1950, 167266...</td>\n      <td>[[1800, 31], [1944, 31], [1950, 36.53], [1951,...</td>\n    </tr>\n    <tr>\n      <th>2</th>\n      <td>Botswana</td>\n      <td>Sub-Saharan Africa</td>\n      <td>[[1800, 407.36], [1820, 407.36], [1913, 629.4]...</td>\n      <td>[[1800, 121000], [1904, 121000], [1911, 125000...</td>\n      <td>[[1800, 33.6], [1945, 33.6], [1950, 46.82], [1...</td>\n    </tr>\n    <tr>\n      <th>3</th>\n      <td>Burkina Faso</td>\n      <td>Sub-Saharan Africa</td>\n      <td>[[1800, 454.33], [1820, 454.33], [1913, 497.44...</td>\n      <td>[[1800, 1665421], [1820, 1665421], [1950, 4376...</td>\n      <td>[[1800, 29.2], [1945, 29.2], [1950, 32.89], [1...</td>\n    </tr>\n    <tr>\n      <th>4</th>\n      <td>Burundi</td>\n      <td>Sub-Saharan Africa</td>\n      <td>[[1800, 447.59], [1820, 447.59], [1913, 353.82...</td>\n      <td>[[1800, 899097], [1820, 899097], [1950, 236252...</td>\n      <td>[[1800, 31.5], [1945, 31.5], [1950, 38.42], [1...</td>\n    </tr>\n    <tr>\n      <th>...</th>\n      <td>...</td>\n      <td>...</td>\n      <td>...</td>\n      <td>...</td>\n      <td>...</td>\n    </tr>\n    <tr>\n      <th>175</th>\n      <td>Timor-Leste</td>\n      <td>East Asia &amp; Pacific</td>\n      <td>[[1800, 514.12], [1820, 518.73], [1850, 539.86...</td>\n      <td>[[1800, 137262], [1820, 137262], [1926, 442000...</td>\n      <td>[[1950, 28.97], [1951, 29.22], [1952, 29.73], ...</td>\n    </tr>\n    <tr>\n      <th>176</th>\n      <td>Tokelau</td>\n      <td>East Asia &amp; Pacific</td>\n      <td>[[2005, 889.43]]</td>\n      <td>[[1800, 1009], [1843, 1000], [1850, 1000], [19...</td>\n      <td>[[2006, 69]]</td>\n    </tr>\n    <tr>\n      <th>177</th>\n      <td>Tonga</td>\n      <td>East Asia &amp; Pacific</td>\n      <td>[[1800, 667.71], [1820, 667.71], [1913, 902.69...</td>\n      <td>[[1800, 18658], [1843, 18500], [1850, 18500], ...</td>\n      <td>[[1950, 57.91], [1951, 58.1], [1952, 58.47], [...</td>\n    </tr>\n    <tr>\n      <th>178</th>\n      <td>Vietnam</td>\n      <td>East Asia &amp; Pacific</td>\n      <td>[[1800, 459.71], [1820, 459.71], [1870, 440.8]...</td>\n      <td>[[1800, 6551000], [1820, 6551000], [1870, 1052...</td>\n      <td>[[1800, 32], [1930, 32], [1936, 33], [1950, 39...</td>\n    </tr>\n    <tr>\n      <th>179</th>\n      <td>Vanuatu</td>\n      <td>East Asia &amp; Pacific</td>\n      <td>[[1800, 829.58], [1820, 829.58], [1913, 1121.5...</td>\n      <td>[[1800, 27791], [1820, 27791], [1950, 52000], ...</td>\n      <td>[[1950, 40.8], [1951, 41.1], [1952, 41.7], [19...</td>\n    </tr>\n  </tbody>\n</table>\n<p>180 rows × 5 columns</p>\n</div>"
     },
     "metadata": {},
     "execution_count": 40
    }
   ],
   "source": [
    "nations = pd.read_json('../public/nations.json')\n",
    "nations"
   ]
  },
  {
   "cell_type": "code",
   "execution_count": 191,
   "metadata": {},
   "outputs": [
    {
     "output_type": "display_data",
     "data": {
      "text/plain": "HBox(children=(HTML(value=''), FloatProgress(value=0.0, max=180.0), HTML(value='')))",
      "application/vnd.jupyter.widget-view+json": {
       "version_major": 2,
       "version_minor": 0,
       "model_id": "1185ad09f7144555adb7021356fbcb4e"
      }
     },
     "metadata": {}
    },
    {
     "output_type": "stream",
     "name": "stdout",
     "text": [
      "\n"
     ]
    },
    {
     "output_type": "execute_result",
     "data": {
      "text/plain": [
       "                                   income  population  lifeExpectancy\n",
       "name    year region                                                  \n",
       "Angola  1800 Sub-Saharan Africa    359.93   1567028.0           26.98\n",
       "        1801 Sub-Saharan Africa       NaN         NaN             NaN\n",
       "        1802 Sub-Saharan Africa       NaN         NaN             NaN\n",
       "        1803 Sub-Saharan Africa       NaN         NaN             NaN\n",
       "        1804 Sub-Saharan Africa       NaN         NaN             NaN\n",
       "...                                   ...         ...             ...\n",
       "Vanuatu 2005 East Asia & Pacific  3477.00    205754.0           69.26\n",
       "        2006 East Asia & Pacific  3632.57    208869.0           69.58\n",
       "        2007 East Asia & Pacific  3779.08    211971.0           69.89\n",
       "        2008 East Asia & Pacific  3916.57    215053.0           70.20\n",
       "        2009 East Asia & Pacific  3943.30         NaN           70.50\n",
       "\n",
       "[37800 rows x 3 columns]"
      ],
      "text/html": "<div>\n<style scoped>\n    .dataframe tbody tr th:only-of-type {\n        vertical-align: middle;\n    }\n\n    .dataframe tbody tr th {\n        vertical-align: top;\n    }\n\n    .dataframe thead th {\n        text-align: right;\n    }\n</style>\n<table border=\"1\" class=\"dataframe\">\n  <thead>\n    <tr style=\"text-align: right;\">\n      <th></th>\n      <th></th>\n      <th></th>\n      <th>income</th>\n      <th>population</th>\n      <th>lifeExpectancy</th>\n    </tr>\n    <tr>\n      <th>name</th>\n      <th>year</th>\n      <th>region</th>\n      <th></th>\n      <th></th>\n      <th></th>\n    </tr>\n  </thead>\n  <tbody>\n    <tr>\n      <th rowspan=\"5\" valign=\"top\">Angola</th>\n      <th>1800</th>\n      <th>Sub-Saharan Africa</th>\n      <td>359.93</td>\n      <td>1567028.0</td>\n      <td>26.98</td>\n    </tr>\n    <tr>\n      <th>1801</th>\n      <th>Sub-Saharan Africa</th>\n      <td>NaN</td>\n      <td>NaN</td>\n      <td>NaN</td>\n    </tr>\n    <tr>\n      <th>1802</th>\n      <th>Sub-Saharan Africa</th>\n      <td>NaN</td>\n      <td>NaN</td>\n      <td>NaN</td>\n    </tr>\n    <tr>\n      <th>1803</th>\n      <th>Sub-Saharan Africa</th>\n      <td>NaN</td>\n      <td>NaN</td>\n      <td>NaN</td>\n    </tr>\n    <tr>\n      <th>1804</th>\n      <th>Sub-Saharan Africa</th>\n      <td>NaN</td>\n      <td>NaN</td>\n      <td>NaN</td>\n    </tr>\n    <tr>\n      <th>...</th>\n      <th>...</th>\n      <th>...</th>\n      <td>...</td>\n      <td>...</td>\n      <td>...</td>\n    </tr>\n    <tr>\n      <th rowspan=\"5\" valign=\"top\">Vanuatu</th>\n      <th>2005</th>\n      <th>East Asia &amp; Pacific</th>\n      <td>3477.00</td>\n      <td>205754.0</td>\n      <td>69.26</td>\n    </tr>\n    <tr>\n      <th>2006</th>\n      <th>East Asia &amp; Pacific</th>\n      <td>3632.57</td>\n      <td>208869.0</td>\n      <td>69.58</td>\n    </tr>\n    <tr>\n      <th>2007</th>\n      <th>East Asia &amp; Pacific</th>\n      <td>3779.08</td>\n      <td>211971.0</td>\n      <td>69.89</td>\n    </tr>\n    <tr>\n      <th>2008</th>\n      <th>East Asia &amp; Pacific</th>\n      <td>3916.57</td>\n      <td>215053.0</td>\n      <td>70.20</td>\n    </tr>\n    <tr>\n      <th>2009</th>\n      <th>East Asia &amp; Pacific</th>\n      <td>3943.30</td>\n      <td>NaN</td>\n      <td>70.50</td>\n    </tr>\n  </tbody>\n</table>\n<p>37800 rows × 3 columns</p>\n</div>"
     },
     "metadata": {},
     "execution_count": 191
    }
   ],
   "source": [
    "inds = 'name year region income population lifeExpectancy'.split()\n",
    "new_nations = pd.DataFrame({k: [] for k in inds}, index=[])\n",
    "for nation in tqdm(nations.iterrows(), total=len(nations)):\n",
    "    d = defaultdict(lambda: {k: None for k in inds[3:]})\n",
    "    for k in inds[3:]:\n",
    "        for year, v in nation[1][k]:\n",
    "            d[year][k] = v\n",
    "    for year in range(1800, 2010):\n",
    "        d_tmp = dict(name=nation[1]['name'], year=year, region=nation[1]['region'])\n",
    "        d_tmp.update(d[year])\n",
    "        new_nations = new_nations.append(d_tmp, ignore_index=True)\n",
    "new_nations = new_nations.astype({'name': str, 'year': int, 'region': str, 'income': float, 'population': float, 'lifeExpectancy': float})\n",
    "new_nations['year'] = pd.to_datetime(new_nations['year'], format='%Y')\n",
    "new_nations_ = new_nations.set_index(['name', 'year'])\n",
    "new_nations__ = new_nations.set_index(['name', 'year', 'region'])\n",
    "new_nations__"
   ]
  },
  {
   "cell_type": "code",
   "execution_count": 203,
   "metadata": {},
   "outputs": [
    {
     "output_type": "execute_result",
     "data": {
      "text/plain": [
       "0       359.93\n",
       "20      359.93\n",
       "113     556.12\n",
       "150    3363.02\n",
       "151    3440.90\n",
       "152    3520.61\n",
       "153    3598.81\n",
       "154    3450.82\n",
       "155    3672.08\n",
       "156    3549.04\n",
       "157    3827.94\n",
       "158    3966.42\n",
       "159    3917.76\n",
       "160    4006.21\n",
       "161    4463.83\n",
       "162    4269.28\n",
       "163    4413.60\n",
       "164    4826.49\n",
       "165    5102.21\n",
       "166    5308.14\n",
       "167    5522.78\n",
       "168    5346.63\n",
       "169    5408.12\n",
       "170    5651.88\n",
       "171    5526.21\n",
       "172    5473.29\n",
       "173    5722.02\n",
       "174    5470.21\n",
       "175    3430.85\n",
       "176    3050.32\n",
       "177    3008.65\n",
       "178    3070.82\n",
       "179    3064.89\n",
       "180    3074.75\n",
       "181    2953.41\n",
       "182    2756.95\n",
       "183    2584.56\n",
       "184    2527.47\n",
       "185    2492.83\n",
       "186    2220.61\n",
       "187    2430.21\n",
       "188    2728.53\n",
       "189    2730.56\n",
       "190    2777.42\n",
       "191    2730.85\n",
       "192    2627.85\n",
       "193    1869.92\n",
       "194    1851.45\n",
       "195    1989.02\n",
       "196    2157.35\n",
       "197    2277.14\n",
       "198    2384.48\n",
       "199    2417.18\n",
       "200    2446.65\n",
       "201    2479.69\n",
       "202    2773.29\n",
       "203    2785.39\n",
       "204    3007.11\n",
       "205    3533.00\n",
       "206    4069.56\n",
       "Name: income, dtype: float64"
      ]
     },
     "metadata": {},
     "execution_count": 203
    }
   ],
   "source": [
    "new_nations.groupby('name').get_group('Angola')['income'].dropna()[:60]"
   ]
  },
  {
   "cell_type": "code",
   "execution_count": 206,
   "metadata": {},
   "outputs": [
    {
     "output_type": "execute_result",
     "data": {
      "text/plain": [
       "              name              region   income  population  lifeExpectancy\n",
       "year                                                                       \n",
       "1800-01-01  Angola  Sub-Saharan Africa   359.93   1567028.0           26.98\n",
       "1801-01-01  Angola  Sub-Saharan Africa   359.93   1567028.0           26.98\n",
       "1802-01-01  Angola  Sub-Saharan Africa   359.93   1567028.0           26.98\n",
       "1803-01-01  Angola  Sub-Saharan Africa   359.93   1567028.0           26.98\n",
       "1804-01-01  Angola  Sub-Saharan Africa   359.93   1567028.0           26.98\n",
       "...            ...                 ...      ...         ...             ...\n",
       "2005-01-01  Angola  Sub-Saharan Africa  3533.00  11827315.0           45.52\n",
       "2006-01-01  Angola  Sub-Saharan Africa  4069.56  12127071.0           46.02\n",
       "2007-01-01  Angola  Sub-Saharan Africa  4755.46  12420476.0           46.54\n",
       "2008-01-01  Angola  Sub-Saharan Africa  5228.74  12707546.0           47.06\n",
       "2009-01-01  Angola  Sub-Saharan Africa  5055.59  12707546.0           47.58\n",
       "\n",
       "[210 rows x 5 columns]"
      ],
      "text/html": "<div>\n<style scoped>\n    .dataframe tbody tr th:only-of-type {\n        vertical-align: middle;\n    }\n\n    .dataframe tbody tr th {\n        vertical-align: top;\n    }\n\n    .dataframe thead th {\n        text-align: right;\n    }\n</style>\n<table border=\"1\" class=\"dataframe\">\n  <thead>\n    <tr style=\"text-align: right;\">\n      <th></th>\n      <th>name</th>\n      <th>region</th>\n      <th>income</th>\n      <th>population</th>\n      <th>lifeExpectancy</th>\n    </tr>\n    <tr>\n      <th>year</th>\n      <th></th>\n      <th></th>\n      <th></th>\n      <th></th>\n      <th></th>\n    </tr>\n  </thead>\n  <tbody>\n    <tr>\n      <th>1800-01-01</th>\n      <td>Angola</td>\n      <td>Sub-Saharan Africa</td>\n      <td>359.93</td>\n      <td>1567028.0</td>\n      <td>26.98</td>\n    </tr>\n    <tr>\n      <th>1801-01-01</th>\n      <td>Angola</td>\n      <td>Sub-Saharan Africa</td>\n      <td>359.93</td>\n      <td>1567028.0</td>\n      <td>26.98</td>\n    </tr>\n    <tr>\n      <th>1802-01-01</th>\n      <td>Angola</td>\n      <td>Sub-Saharan Africa</td>\n      <td>359.93</td>\n      <td>1567028.0</td>\n      <td>26.98</td>\n    </tr>\n    <tr>\n      <th>1803-01-01</th>\n      <td>Angola</td>\n      <td>Sub-Saharan Africa</td>\n      <td>359.93</td>\n      <td>1567028.0</td>\n      <td>26.98</td>\n    </tr>\n    <tr>\n      <th>1804-01-01</th>\n      <td>Angola</td>\n      <td>Sub-Saharan Africa</td>\n      <td>359.93</td>\n      <td>1567028.0</td>\n      <td>26.98</td>\n    </tr>\n    <tr>\n      <th>...</th>\n      <td>...</td>\n      <td>...</td>\n      <td>...</td>\n      <td>...</td>\n      <td>...</td>\n    </tr>\n    <tr>\n      <th>2005-01-01</th>\n      <td>Angola</td>\n      <td>Sub-Saharan Africa</td>\n      <td>3533.00</td>\n      <td>11827315.0</td>\n      <td>45.52</td>\n    </tr>\n    <tr>\n      <th>2006-01-01</th>\n      <td>Angola</td>\n      <td>Sub-Saharan Africa</td>\n      <td>4069.56</td>\n      <td>12127071.0</td>\n      <td>46.02</td>\n    </tr>\n    <tr>\n      <th>2007-01-01</th>\n      <td>Angola</td>\n      <td>Sub-Saharan Africa</td>\n      <td>4755.46</td>\n      <td>12420476.0</td>\n      <td>46.54</td>\n    </tr>\n    <tr>\n      <th>2008-01-01</th>\n      <td>Angola</td>\n      <td>Sub-Saharan Africa</td>\n      <td>5228.74</td>\n      <td>12707546.0</td>\n      <td>47.06</td>\n    </tr>\n    <tr>\n      <th>2009-01-01</th>\n      <td>Angola</td>\n      <td>Sub-Saharan Africa</td>\n      <td>5055.59</td>\n      <td>12707546.0</td>\n      <td>47.58</td>\n    </tr>\n  </tbody>\n</table>\n<p>210 rows × 5 columns</p>\n</div>"
     },
     "metadata": {},
     "execution_count": 206
    }
   ],
   "source": [
    "new_nations.groupby('name').get_group('Angola').sort_values('year').set_index('year').interpolate('time')"
   ]
  },
  {
   "cell_type": "code",
   "execution_count": 289,
   "metadata": {},
   "outputs": [
    {
     "output_type": "execute_result",
     "data": {
      "text/plain": [
       "<matplotlib.axes._subplots.AxesSubplot at 0x7f93be332410>"
      ]
     },
     "metadata": {},
     "execution_count": 289
    },
    {
     "output_type": "display_data",
     "data": {
      "text/plain": "<Figure size 432x288 with 1 Axes>",
      "image/svg+xml": "<?xml version=\"1.0\" encoding=\"utf-8\" standalone=\"no\"?>\n<!DOCTYPE svg PUBLIC \"-//W3C//DTD SVG 1.1//EN\"\n  \"http://www.w3.org/Graphics/SVG/1.1/DTD/svg11.dtd\">\n<!-- Created with matplotlib (https://matplotlib.org/) -->\n<svg height=\"248.518125pt\" version=\"1.1\" viewBox=\"0 0 395.328125 248.518125\" width=\"395.328125pt\" xmlns=\"http://www.w3.org/2000/svg\" xmlns:xlink=\"http://www.w3.org/1999/xlink\">\n <defs>\n  <style type=\"text/css\">\n*{stroke-linecap:butt;stroke-linejoin:round;}\n  </style>\n </defs>\n <g id=\"figure_1\">\n  <g id=\"patch_1\">\n   <path d=\"M 0 248.518125 \nL 395.328125 248.518125 \nL 395.328125 0 \nL 0 0 \nz\n\" style=\"fill:none;\"/>\n  </g>\n  <g id=\"axes_1\">\n   <g id=\"patch_2\">\n    <path d=\"M 53.328125 224.64 \nL 388.128125 224.64 \nL 388.128125 7.2 \nL 53.328125 7.2 \nz\n\" style=\"fill:#ffffff;\"/>\n   </g>\n   <g id=\"matplotlib.axis_1\">\n    <g id=\"xtick_1\">\n     <g id=\"line2d_1\">\n      <defs>\n       <path d=\"M 0 0 \nL 0 3.5 \n\" id=\"m0be48f81f2\" style=\"stroke:#000000;stroke-width:0.8;\"/>\n      </defs>\n      <g>\n       <use style=\"stroke:#000000;stroke-width:0.8;\" x=\"68.546307\" xlink:href=\"#m0be48f81f2\" y=\"224.64\"/>\n      </g>\n     </g>\n     <g id=\"text_1\">\n      <!-- 1800 -->\n      <defs>\n       <path d=\"M 12.40625 8.296875 \nL 28.515625 8.296875 \nL 28.515625 63.921875 \nL 10.984375 60.40625 \nL 10.984375 69.390625 \nL 28.421875 72.90625 \nL 38.28125 72.90625 \nL 38.28125 8.296875 \nL 54.390625 8.296875 \nL 54.390625 0 \nL 12.40625 0 \nz\n\" id=\"DejaVuSans-49\"/>\n       <path d=\"M 31.78125 34.625 \nQ 24.75 34.625 20.71875 30.859375 \nQ 16.703125 27.09375 16.703125 20.515625 \nQ 16.703125 13.921875 20.71875 10.15625 \nQ 24.75 6.390625 31.78125 6.390625 \nQ 38.8125 6.390625 42.859375 10.171875 \nQ 46.921875 13.96875 46.921875 20.515625 \nQ 46.921875 27.09375 42.890625 30.859375 \nQ 38.875 34.625 31.78125 34.625 \nz\nM 21.921875 38.8125 \nQ 15.578125 40.375 12.03125 44.71875 \nQ 8.5 49.078125 8.5 55.328125 \nQ 8.5 64.0625 14.71875 69.140625 \nQ 20.953125 74.21875 31.78125 74.21875 \nQ 42.671875 74.21875 48.875 69.140625 \nQ 55.078125 64.0625 55.078125 55.328125 \nQ 55.078125 49.078125 51.53125 44.71875 \nQ 48 40.375 41.703125 38.8125 \nQ 48.828125 37.15625 52.796875 32.3125 \nQ 56.78125 27.484375 56.78125 20.515625 \nQ 56.78125 9.90625 50.3125 4.234375 \nQ 43.84375 -1.421875 31.78125 -1.421875 \nQ 19.734375 -1.421875 13.25 4.234375 \nQ 6.78125 9.90625 6.78125 20.515625 \nQ 6.78125 27.484375 10.78125 32.3125 \nQ 14.796875 37.15625 21.921875 38.8125 \nz\nM 18.3125 54.390625 \nQ 18.3125 48.734375 21.84375 45.5625 \nQ 25.390625 42.390625 31.78125 42.390625 \nQ 38.140625 42.390625 41.71875 45.5625 \nQ 45.3125 48.734375 45.3125 54.390625 \nQ 45.3125 60.0625 41.71875 63.234375 \nQ 38.140625 66.40625 31.78125 66.40625 \nQ 25.390625 66.40625 21.84375 63.234375 \nQ 18.3125 60.0625 18.3125 54.390625 \nz\n\" id=\"DejaVuSans-56\"/>\n       <path d=\"M 31.78125 66.40625 \nQ 24.171875 66.40625 20.328125 58.90625 \nQ 16.5 51.421875 16.5 36.375 \nQ 16.5 21.390625 20.328125 13.890625 \nQ 24.171875 6.390625 31.78125 6.390625 \nQ 39.453125 6.390625 43.28125 13.890625 \nQ 47.125 21.390625 47.125 36.375 \nQ 47.125 51.421875 43.28125 58.90625 \nQ 39.453125 66.40625 31.78125 66.40625 \nz\nM 31.78125 74.21875 \nQ 44.046875 74.21875 50.515625 64.515625 \nQ 56.984375 54.828125 56.984375 36.375 \nQ 56.984375 17.96875 50.515625 8.265625 \nQ 44.046875 -1.421875 31.78125 -1.421875 \nQ 19.53125 -1.421875 13.0625 8.265625 \nQ 6.59375 17.96875 6.59375 36.375 \nQ 6.59375 54.828125 13.0625 64.515625 \nQ 19.53125 74.21875 31.78125 74.21875 \nz\n\" id=\"DejaVuSans-48\"/>\n      </defs>\n      <g transform=\"translate(55.821307 239.238437)scale(0.1 -0.1)\">\n       <use xlink:href=\"#DejaVuSans-49\"/>\n       <use x=\"63.623047\" xlink:href=\"#DejaVuSans-56\"/>\n       <use x=\"127.246094\" xlink:href=\"#DejaVuSans-48\"/>\n       <use x=\"190.869141\" xlink:href=\"#DejaVuSans-48\"/>\n      </g>\n     </g>\n    </g>\n    <g id=\"xtick_2\">\n     <g id=\"line2d_2\">\n      <g>\n       <use style=\"stroke:#000000;stroke-width:0.8;\" x=\"141.360574\" xlink:href=\"#m0be48f81f2\" y=\"224.64\"/>\n      </g>\n     </g>\n     <g id=\"text_2\">\n      <!-- 1850 -->\n      <defs>\n       <path d=\"M 10.796875 72.90625 \nL 49.515625 72.90625 \nL 49.515625 64.59375 \nL 19.828125 64.59375 \nL 19.828125 46.734375 \nQ 21.96875 47.46875 24.109375 47.828125 \nQ 26.265625 48.1875 28.421875 48.1875 \nQ 40.625 48.1875 47.75 41.5 \nQ 54.890625 34.8125 54.890625 23.390625 \nQ 54.890625 11.625 47.5625 5.09375 \nQ 40.234375 -1.421875 26.90625 -1.421875 \nQ 22.3125 -1.421875 17.546875 -0.640625 \nQ 12.796875 0.140625 7.71875 1.703125 \nL 7.71875 11.625 \nQ 12.109375 9.234375 16.796875 8.0625 \nQ 21.484375 6.890625 26.703125 6.890625 \nQ 35.15625 6.890625 40.078125 11.328125 \nQ 45.015625 15.765625 45.015625 23.390625 \nQ 45.015625 31 40.078125 35.4375 \nQ 35.15625 39.890625 26.703125 39.890625 \nQ 22.75 39.890625 18.8125 39.015625 \nQ 14.890625 38.140625 10.796875 36.28125 \nz\n\" id=\"DejaVuSans-53\"/>\n      </defs>\n      <g transform=\"translate(128.635574 239.238437)scale(0.1 -0.1)\">\n       <use xlink:href=\"#DejaVuSans-49\"/>\n       <use x=\"63.623047\" xlink:href=\"#DejaVuSans-56\"/>\n       <use x=\"127.246094\" xlink:href=\"#DejaVuSans-53\"/>\n       <use x=\"190.869141\" xlink:href=\"#DejaVuSans-48\"/>\n      </g>\n     </g>\n    </g>\n    <g id=\"xtick_3\">\n     <g id=\"line2d_3\">\n      <g>\n       <use style=\"stroke:#000000;stroke-width:0.8;\" x=\"214.174841\" xlink:href=\"#m0be48f81f2\" y=\"224.64\"/>\n      </g>\n     </g>\n     <g id=\"text_3\">\n      <!-- 1900 -->\n      <defs>\n       <path d=\"M 10.984375 1.515625 \nL 10.984375 10.5 \nQ 14.703125 8.734375 18.5 7.8125 \nQ 22.3125 6.890625 25.984375 6.890625 \nQ 35.75 6.890625 40.890625 13.453125 \nQ 46.046875 20.015625 46.78125 33.40625 \nQ 43.953125 29.203125 39.59375 26.953125 \nQ 35.25 24.703125 29.984375 24.703125 \nQ 19.046875 24.703125 12.671875 31.3125 \nQ 6.296875 37.9375 6.296875 49.421875 \nQ 6.296875 60.640625 12.9375 67.421875 \nQ 19.578125 74.21875 30.609375 74.21875 \nQ 43.265625 74.21875 49.921875 64.515625 \nQ 56.59375 54.828125 56.59375 36.375 \nQ 56.59375 19.140625 48.40625 8.859375 \nQ 40.234375 -1.421875 26.421875 -1.421875 \nQ 22.703125 -1.421875 18.890625 -0.6875 \nQ 15.09375 0.046875 10.984375 1.515625 \nz\nM 30.609375 32.421875 \nQ 37.25 32.421875 41.125 36.953125 \nQ 45.015625 41.5 45.015625 49.421875 \nQ 45.015625 57.28125 41.125 61.84375 \nQ 37.25 66.40625 30.609375 66.40625 \nQ 23.96875 66.40625 20.09375 61.84375 \nQ 16.21875 57.28125 16.21875 49.421875 \nQ 16.21875 41.5 20.09375 36.953125 \nQ 23.96875 32.421875 30.609375 32.421875 \nz\n\" id=\"DejaVuSans-57\"/>\n      </defs>\n      <g transform=\"translate(201.449841 239.238437)scale(0.1 -0.1)\">\n       <use xlink:href=\"#DejaVuSans-49\"/>\n       <use x=\"63.623047\" xlink:href=\"#DejaVuSans-57\"/>\n       <use x=\"127.246094\" xlink:href=\"#DejaVuSans-48\"/>\n       <use x=\"190.869141\" xlink:href=\"#DejaVuSans-48\"/>\n      </g>\n     </g>\n    </g>\n    <g id=\"xtick_4\">\n     <g id=\"line2d_4\">\n      <g>\n       <use style=\"stroke:#000000;stroke-width:0.8;\" x=\"286.989108\" xlink:href=\"#m0be48f81f2\" y=\"224.64\"/>\n      </g>\n     </g>\n     <g id=\"text_4\">\n      <!-- 1950 -->\n      <g transform=\"translate(274.264108 239.238437)scale(0.1 -0.1)\">\n       <use xlink:href=\"#DejaVuSans-49\"/>\n       <use x=\"63.623047\" xlink:href=\"#DejaVuSans-57\"/>\n       <use x=\"127.246094\" xlink:href=\"#DejaVuSans-53\"/>\n       <use x=\"190.869141\" xlink:href=\"#DejaVuSans-48\"/>\n      </g>\n     </g>\n    </g>\n    <g id=\"xtick_5\">\n     <g id=\"line2d_5\">\n      <g>\n       <use style=\"stroke:#000000;stroke-width:0.8;\" x=\"359.803375\" xlink:href=\"#m0be48f81f2\" y=\"224.64\"/>\n      </g>\n     </g>\n     <g id=\"text_5\">\n      <!-- 2000 -->\n      <defs>\n       <path d=\"M 19.1875 8.296875 \nL 53.609375 8.296875 \nL 53.609375 0 \nL 7.328125 0 \nL 7.328125 8.296875 \nQ 12.9375 14.109375 22.625 23.890625 \nQ 32.328125 33.6875 34.8125 36.53125 \nQ 39.546875 41.84375 41.421875 45.53125 \nQ 43.3125 49.21875 43.3125 52.78125 \nQ 43.3125 58.59375 39.234375 62.25 \nQ 35.15625 65.921875 28.609375 65.921875 \nQ 23.96875 65.921875 18.8125 64.3125 \nQ 13.671875 62.703125 7.8125 59.421875 \nL 7.8125 69.390625 \nQ 13.765625 71.78125 18.9375 73 \nQ 24.125 74.21875 28.421875 74.21875 \nQ 39.75 74.21875 46.484375 68.546875 \nQ 53.21875 62.890625 53.21875 53.421875 \nQ 53.21875 48.921875 51.53125 44.890625 \nQ 49.859375 40.875 45.40625 35.40625 \nQ 44.1875 33.984375 37.640625 27.21875 \nQ 31.109375 20.453125 19.1875 8.296875 \nz\n\" id=\"DejaVuSans-50\"/>\n      </defs>\n      <g transform=\"translate(347.078375 239.238437)scale(0.1 -0.1)\">\n       <use xlink:href=\"#DejaVuSans-50\"/>\n       <use x=\"63.623047\" xlink:href=\"#DejaVuSans-48\"/>\n       <use x=\"127.246094\" xlink:href=\"#DejaVuSans-48\"/>\n       <use x=\"190.869141\" xlink:href=\"#DejaVuSans-48\"/>\n      </g>\n     </g>\n    </g>\n   </g>\n   <g id=\"matplotlib.axis_2\">\n    <g id=\"ytick_1\">\n     <g id=\"line2d_6\">\n      <defs>\n       <path d=\"M 0 0 \nL -3.5 0 \n\" id=\"m7f31789771\" style=\"stroke:#000000;stroke-width:0.8;\"/>\n      </defs>\n      <g>\n       <use style=\"stroke:#000000;stroke-width:0.8;\" x=\"53.328125\" xlink:href=\"#m7f31789771\" y=\"214.756364\"/>\n      </g>\n     </g>\n     <g id=\"text_6\">\n      <!-- 0 -->\n      <g transform=\"translate(39.965625 218.555582)scale(0.1 -0.1)\">\n       <use xlink:href=\"#DejaVuSans-48\"/>\n      </g>\n     </g>\n    </g>\n    <g id=\"ytick_2\">\n     <g id=\"line2d_7\">\n      <g>\n       <use style=\"stroke:#000000;stroke-width:0.8;\" x=\"53.328125\" xlink:href=\"#m7f31789771\" y=\"182.262573\"/>\n      </g>\n     </g>\n     <g id=\"text_7\">\n      <!-- 200 -->\n      <g transform=\"translate(27.240625 186.061792)scale(0.1 -0.1)\">\n       <use xlink:href=\"#DejaVuSans-50\"/>\n       <use x=\"63.623047\" xlink:href=\"#DejaVuSans-48\"/>\n       <use x=\"127.246094\" xlink:href=\"#DejaVuSans-48\"/>\n      </g>\n     </g>\n    </g>\n    <g id=\"ytick_3\">\n     <g id=\"line2d_8\">\n      <g>\n       <use style=\"stroke:#000000;stroke-width:0.8;\" x=\"53.328125\" xlink:href=\"#m7f31789771\" y=\"149.768782\"/>\n      </g>\n     </g>\n     <g id=\"text_8\">\n      <!-- 400 -->\n      <defs>\n       <path d=\"M 37.796875 64.3125 \nL 12.890625 25.390625 \nL 37.796875 25.390625 \nz\nM 35.203125 72.90625 \nL 47.609375 72.90625 \nL 47.609375 25.390625 \nL 58.015625 25.390625 \nL 58.015625 17.1875 \nL 47.609375 17.1875 \nL 47.609375 0 \nL 37.796875 0 \nL 37.796875 17.1875 \nL 4.890625 17.1875 \nL 4.890625 26.703125 \nz\n\" id=\"DejaVuSans-52\"/>\n      </defs>\n      <g transform=\"translate(27.240625 153.568001)scale(0.1 -0.1)\">\n       <use xlink:href=\"#DejaVuSans-52\"/>\n       <use x=\"63.623047\" xlink:href=\"#DejaVuSans-48\"/>\n       <use x=\"127.246094\" xlink:href=\"#DejaVuSans-48\"/>\n      </g>\n     </g>\n    </g>\n    <g id=\"ytick_4\">\n     <g id=\"line2d_9\">\n      <g>\n       <use style=\"stroke:#000000;stroke-width:0.8;\" x=\"53.328125\" xlink:href=\"#m7f31789771\" y=\"117.274991\"/>\n      </g>\n     </g>\n     <g id=\"text_9\">\n      <!-- 600 -->\n      <defs>\n       <path d=\"M 33.015625 40.375 \nQ 26.375 40.375 22.484375 35.828125 \nQ 18.609375 31.296875 18.609375 23.390625 \nQ 18.609375 15.53125 22.484375 10.953125 \nQ 26.375 6.390625 33.015625 6.390625 \nQ 39.65625 6.390625 43.53125 10.953125 \nQ 47.40625 15.53125 47.40625 23.390625 \nQ 47.40625 31.296875 43.53125 35.828125 \nQ 39.65625 40.375 33.015625 40.375 \nz\nM 52.59375 71.296875 \nL 52.59375 62.3125 \nQ 48.875 64.0625 45.09375 64.984375 \nQ 41.3125 65.921875 37.59375 65.921875 \nQ 27.828125 65.921875 22.671875 59.328125 \nQ 17.53125 52.734375 16.796875 39.40625 \nQ 19.671875 43.65625 24.015625 45.921875 \nQ 28.375 48.1875 33.59375 48.1875 \nQ 44.578125 48.1875 50.953125 41.515625 \nQ 57.328125 34.859375 57.328125 23.390625 \nQ 57.328125 12.15625 50.6875 5.359375 \nQ 44.046875 -1.421875 33.015625 -1.421875 \nQ 20.359375 -1.421875 13.671875 8.265625 \nQ 6.984375 17.96875 6.984375 36.375 \nQ 6.984375 53.65625 15.1875 63.9375 \nQ 23.390625 74.21875 37.203125 74.21875 \nQ 40.921875 74.21875 44.703125 73.484375 \nQ 48.484375 72.75 52.59375 71.296875 \nz\n\" id=\"DejaVuSans-54\"/>\n      </defs>\n      <g transform=\"translate(27.240625 121.07421)scale(0.1 -0.1)\">\n       <use xlink:href=\"#DejaVuSans-54\"/>\n       <use x=\"63.623047\" xlink:href=\"#DejaVuSans-48\"/>\n       <use x=\"127.246094\" xlink:href=\"#DejaVuSans-48\"/>\n      </g>\n     </g>\n    </g>\n    <g id=\"ytick_5\">\n     <g id=\"line2d_10\">\n      <g>\n       <use style=\"stroke:#000000;stroke-width:0.8;\" x=\"53.328125\" xlink:href=\"#m7f31789771\" y=\"84.7812\"/>\n      </g>\n     </g>\n     <g id=\"text_10\">\n      <!-- 800 -->\n      <g transform=\"translate(27.240625 88.580419)scale(0.1 -0.1)\">\n       <use xlink:href=\"#DejaVuSans-56\"/>\n       <use x=\"63.623047\" xlink:href=\"#DejaVuSans-48\"/>\n       <use x=\"127.246094\" xlink:href=\"#DejaVuSans-48\"/>\n      </g>\n     </g>\n    </g>\n    <g id=\"ytick_6\">\n     <g id=\"line2d_11\">\n      <g>\n       <use style=\"stroke:#000000;stroke-width:0.8;\" x=\"53.328125\" xlink:href=\"#m7f31789771\" y=\"52.287409\"/>\n      </g>\n     </g>\n     <g id=\"text_11\">\n      <!-- 1000 -->\n      <g transform=\"translate(20.878125 56.086628)scale(0.1 -0.1)\">\n       <use xlink:href=\"#DejaVuSans-49\"/>\n       <use x=\"63.623047\" xlink:href=\"#DejaVuSans-48\"/>\n       <use x=\"127.246094\" xlink:href=\"#DejaVuSans-48\"/>\n       <use x=\"190.869141\" xlink:href=\"#DejaVuSans-48\"/>\n      </g>\n     </g>\n    </g>\n    <g id=\"ytick_7\">\n     <g id=\"line2d_12\">\n      <g>\n       <use style=\"stroke:#000000;stroke-width:0.8;\" x=\"53.328125\" xlink:href=\"#m7f31789771\" y=\"19.793619\"/>\n      </g>\n     </g>\n     <g id=\"text_12\">\n      <!-- 1200 -->\n      <g transform=\"translate(20.878125 23.592837)scale(0.1 -0.1)\">\n       <use xlink:href=\"#DejaVuSans-49\"/>\n       <use x=\"63.623047\" xlink:href=\"#DejaVuSans-50\"/>\n       <use x=\"127.246094\" xlink:href=\"#DejaVuSans-48\"/>\n       <use x=\"190.869141\" xlink:href=\"#DejaVuSans-48\"/>\n      </g>\n     </g>\n    </g>\n    <g id=\"text_13\">\n     <!-- income -->\n     <defs>\n      <path d=\"M 9.421875 54.6875 \nL 18.40625 54.6875 \nL 18.40625 0 \nL 9.421875 0 \nz\nM 9.421875 75.984375 \nL 18.40625 75.984375 \nL 18.40625 64.59375 \nL 9.421875 64.59375 \nz\n\" id=\"DejaVuSans-105\"/>\n      <path d=\"M 54.890625 33.015625 \nL 54.890625 0 \nL 45.90625 0 \nL 45.90625 32.71875 \nQ 45.90625 40.484375 42.875 44.328125 \nQ 39.84375 48.1875 33.796875 48.1875 \nQ 26.515625 48.1875 22.3125 43.546875 \nQ 18.109375 38.921875 18.109375 30.90625 \nL 18.109375 0 \nL 9.078125 0 \nL 9.078125 54.6875 \nL 18.109375 54.6875 \nL 18.109375 46.1875 \nQ 21.34375 51.125 25.703125 53.5625 \nQ 30.078125 56 35.796875 56 \nQ 45.21875 56 50.046875 50.171875 \nQ 54.890625 44.34375 54.890625 33.015625 \nz\n\" id=\"DejaVuSans-110\"/>\n      <path d=\"M 48.78125 52.59375 \nL 48.78125 44.1875 \nQ 44.96875 46.296875 41.140625 47.34375 \nQ 37.3125 48.390625 33.40625 48.390625 \nQ 24.65625 48.390625 19.8125 42.84375 \nQ 14.984375 37.3125 14.984375 27.296875 \nQ 14.984375 17.28125 19.8125 11.734375 \nQ 24.65625 6.203125 33.40625 6.203125 \nQ 37.3125 6.203125 41.140625 7.25 \nQ 44.96875 8.296875 48.78125 10.40625 \nL 48.78125 2.09375 \nQ 45.015625 0.34375 40.984375 -0.53125 \nQ 36.96875 -1.421875 32.421875 -1.421875 \nQ 20.0625 -1.421875 12.78125 6.34375 \nQ 5.515625 14.109375 5.515625 27.296875 \nQ 5.515625 40.671875 12.859375 48.328125 \nQ 20.21875 56 33.015625 56 \nQ 37.15625 56 41.109375 55.140625 \nQ 45.0625 54.296875 48.78125 52.59375 \nz\n\" id=\"DejaVuSans-99\"/>\n      <path d=\"M 30.609375 48.390625 \nQ 23.390625 48.390625 19.1875 42.75 \nQ 14.984375 37.109375 14.984375 27.296875 \nQ 14.984375 17.484375 19.15625 11.84375 \nQ 23.34375 6.203125 30.609375 6.203125 \nQ 37.796875 6.203125 41.984375 11.859375 \nQ 46.1875 17.53125 46.1875 27.296875 \nQ 46.1875 37.015625 41.984375 42.703125 \nQ 37.796875 48.390625 30.609375 48.390625 \nz\nM 30.609375 56 \nQ 42.328125 56 49.015625 48.375 \nQ 55.71875 40.765625 55.71875 27.296875 \nQ 55.71875 13.875 49.015625 6.21875 \nQ 42.328125 -1.421875 30.609375 -1.421875 \nQ 18.84375 -1.421875 12.171875 6.21875 \nQ 5.515625 13.875 5.515625 27.296875 \nQ 5.515625 40.765625 12.171875 48.375 \nQ 18.84375 56 30.609375 56 \nz\n\" id=\"DejaVuSans-111\"/>\n      <path d=\"M 52 44.1875 \nQ 55.375 50.25 60.0625 53.125 \nQ 64.75 56 71.09375 56 \nQ 79.640625 56 84.28125 50.015625 \nQ 88.921875 44.046875 88.921875 33.015625 \nL 88.921875 0 \nL 79.890625 0 \nL 79.890625 32.71875 \nQ 79.890625 40.578125 77.09375 44.375 \nQ 74.3125 48.1875 68.609375 48.1875 \nQ 61.625 48.1875 57.5625 43.546875 \nQ 53.515625 38.921875 53.515625 30.90625 \nL 53.515625 0 \nL 44.484375 0 \nL 44.484375 32.71875 \nQ 44.484375 40.625 41.703125 44.40625 \nQ 38.921875 48.1875 33.109375 48.1875 \nQ 26.21875 48.1875 22.15625 43.53125 \nQ 18.109375 38.875 18.109375 30.90625 \nL 18.109375 0 \nL 9.078125 0 \nL 9.078125 54.6875 \nL 18.109375 54.6875 \nL 18.109375 46.1875 \nQ 21.1875 51.21875 25.484375 53.609375 \nQ 29.78125 56 35.6875 56 \nQ 41.65625 56 45.828125 52.96875 \nQ 50 49.953125 52 44.1875 \nz\n\" id=\"DejaVuSans-109\"/>\n      <path d=\"M 56.203125 29.59375 \nL 56.203125 25.203125 \nL 14.890625 25.203125 \nQ 15.484375 15.921875 20.484375 11.0625 \nQ 25.484375 6.203125 34.421875 6.203125 \nQ 39.59375 6.203125 44.453125 7.46875 \nQ 49.3125 8.734375 54.109375 11.28125 \nL 54.109375 2.78125 \nQ 49.265625 0.734375 44.1875 -0.34375 \nQ 39.109375 -1.421875 33.890625 -1.421875 \nQ 20.796875 -1.421875 13.15625 6.1875 \nQ 5.515625 13.8125 5.515625 26.8125 \nQ 5.515625 40.234375 12.765625 48.109375 \nQ 20.015625 56 32.328125 56 \nQ 43.359375 56 49.78125 48.890625 \nQ 56.203125 41.796875 56.203125 29.59375 \nz\nM 47.21875 32.234375 \nQ 47.125 39.59375 43.09375 43.984375 \nQ 39.0625 48.390625 32.421875 48.390625 \nQ 24.90625 48.390625 20.390625 44.140625 \nQ 15.875 39.890625 15.1875 32.171875 \nz\n\" id=\"DejaVuSans-101\"/>\n     </defs>\n     <g transform=\"translate(14.798438 134.233281)rotate(-90)scale(0.1 -0.1)\">\n      <use xlink:href=\"#DejaVuSans-105\"/>\n      <use x=\"27.783203\" xlink:href=\"#DejaVuSans-110\"/>\n      <use x=\"91.162109\" xlink:href=\"#DejaVuSans-99\"/>\n      <use x=\"146.142578\" xlink:href=\"#DejaVuSans-111\"/>\n      <use x=\"207.324219\" xlink:href=\"#DejaVuSans-109\"/>\n      <use x=\"304.736328\" xlink:href=\"#DejaVuSans-101\"/>\n     </g>\n    </g>\n   </g>\n   <g id=\"line2d_13\">\n    <path clip-path=\"url(#p7f8e014ff9)\" d=\"M 68.546307 138.062894 \nL 97.672014 138.062894 \nL 233.10655 111.039433 \nL 286.989108 91.715375 \nL 288.445393 90.183293 \nL 289.901679 88.119937 \nL 291.357964 82.691849 \nL 292.814249 82.285677 \nL 294.270535 82.115085 \nL 295.72682 78.758476 \nL 297.183105 81.393723 \nL 298.639391 76.699994 \nL 300.095676 75.645571 \nL 301.551961 73.652077 \nL 303.008247 75.461981 \nL 305.920817 76.748735 \nL 307.377103 77.263762 \nL 308.833388 77.434354 \nL 310.289673 79.320619 \nL 311.745959 78.899824 \nL 313.202244 77.4571 \nL 314.65853 78.669118 \nL 316.114815 79.367735 \nL 317.5711 89.054134 \nL 319.027386 94.532587 \nL 320.483671 84.214184 \nL 323.396242 77.236142 \nL 324.852527 74.02738 \nL 326.308812 87.037894 \nL 327.765098 80.379916 \nL 329.221383 83.307607 \nL 330.677668 83.086649 \nL 333.590239 55.860102 \nL 335.046524 50.154192 \nL 336.50281 53.169616 \nL 337.959095 58.474227 \nL 339.41538 47.268743 \nL 340.871666 76.267827 \nL 342.327951 89.653644 \nL 343.784236 92.670693 \nL 345.240522 99.484641 \nL 346.696807 100.14264 \nL 348.153092 109.258773 \nL 349.609378 123.960589 \nL 351.065663 133.448775 \nL 352.521948 116.971174 \nL 355.434519 111.533338 \nL 358.34709 105.74132 \nL 359.803375 106.8916 \nL 361.25966 118.080837 \nL 362.715946 96.685301 \nL 364.172231 87.197114 \nL 365.628516 84.014347 \nL 367.084802 72.758498 \nL 368.541087 66.847877 \nL 369.997372 50.238676 \nL 371.453658 49.14201 \nL 372.909943 17.083636 \nL 372.909943 17.083636 \n\" style=\"fill:none;stroke:#1f77b4;stroke-linecap:square;stroke-width:1.5;\"/>\n   </g>\n   <g id=\"line2d_14\">\n    <path clip-path=\"url(#p7f8e014ff9)\" d=\"M 335.046524 214.756364 \nL 335.046524 19.793619 \n\" style=\"fill:none;stroke:#ff7f0e;stroke-linecap:square;stroke-width:1.5;\"/>\n   </g>\n   <g id=\"line2d_15\">\n    <path clip-path=\"url(#p7f8e014ff9)\" d=\"M 326.308812 214.756364 \nL 326.308812 19.793619 \n\" style=\"fill:none;stroke:#2ca02c;stroke-linecap:square;stroke-width:1.5;\"/>\n   </g>\n   <g id=\"line2d_16\">\n    <path clip-path=\"url(#p7f8e014ff9)\" d=\"M 358.34709 214.756364 \nL 358.34709 19.793619 \n\" style=\"fill:none;stroke:#d62728;stroke-linecap:square;stroke-width:1.5;\"/>\n   </g>\n   <g id=\"line2d_17\">\n    <path clip-path=\"url(#p7f8e014ff9)\" d=\"M 310.289673 214.756364 \nL 310.289673 19.793619 \n\" style=\"fill:none;stroke:#9467bd;stroke-linecap:square;stroke-width:1.5;\"/>\n   </g>\n   <g id=\"line2d_18\">\n    <path clip-path=\"url(#p7f8e014ff9)\" d=\"M 295.72682 214.756364 \nL 295.72682 19.793619 \n\" style=\"fill:none;stroke:#8c564b;stroke-linecap:square;stroke-width:1.5;\"/>\n   </g>\n   <g id=\"line2d_19\">\n    <path clip-path=\"url(#p7f8e014ff9)\" d=\"M 68.546307 214.756364 \nL 294.270535 214.756364 \nL 295.72682 212.802674 \nL 297.183105 214.756364 \nL 300.095676 214.756364 \nL 301.551961 214.195033 \nL 303.008247 214.756364 \nL 308.833388 214.756364 \nL 310.289673 211.825424 \nL 311.745959 214.756364 \nL 313.202244 214.130046 \nL 314.65853 214.756364 \nL 324.852527 214.756364 \nL 326.308812 208.468815 \nL 327.765098 214.756364 \nL 329.221383 214.465544 \nL 330.677668 214.756364 \nL 333.590239 214.756364 \nL 335.046524 206.981412 \nL 336.50281 214.756364 \nL 337.959095 214.756364 \nL 339.41538 214.114611 \nL 340.871666 214.756364 \nL 356.890804 214.756364 \nL 358.34709 211.308772 \nL 359.803375 214.756364 \nL 372.909943 214.756364 \nL 372.909943 214.756364 \n\" style=\"fill:none;stroke:#e377c2;stroke-linecap:square;stroke-width:1.5;\"/>\n   </g>\n   <g id=\"patch_3\">\n    <path d=\"M 53.328125 224.64 \nL 53.328125 7.2 \n\" style=\"fill:none;stroke:#000000;stroke-linecap:square;stroke-linejoin:miter;stroke-width:0.8;\"/>\n   </g>\n   <g id=\"patch_4\">\n    <path d=\"M 388.128125 224.64 \nL 388.128125 7.2 \n\" style=\"fill:none;stroke:#000000;stroke-linecap:square;stroke-linejoin:miter;stroke-width:0.8;\"/>\n   </g>\n   <g id=\"patch_5\">\n    <path d=\"M 53.328125 224.64 \nL 388.128125 224.64 \n\" style=\"fill:none;stroke:#000000;stroke-linecap:square;stroke-linejoin:miter;stroke-width:0.8;\"/>\n   </g>\n   <g id=\"patch_6\">\n    <path d=\"M 53.328125 7.2 \nL 388.128125 7.2 \n\" style=\"fill:none;stroke:#000000;stroke-linecap:square;stroke-linejoin:miter;stroke-width:0.8;\"/>\n   </g>\n  </g>\n </g>\n <defs>\n  <clipPath id=\"p7f8e014ff9\">\n   <rect height=\"217.44\" width=\"334.8\" x=\"53.328125\" y=\"7.2\"/>\n  </clipPath>\n </defs>\n</svg>\n",
      "image/png": "[encoded data removed]"
     },
     "metadata": {
      "needs_background": "light"
     }
    }
   ],
   "source": [
    "import matplotlib.pyplot as plt\n",
    "import seaborn as sns\n",
    "g = new_nations.groupby('name')\n",
    "for k in g.groups.keys():\n",
    "    df = g.get_group(k).sort_values('year').set_index('year').interpolate('time')\n",
    "    break\n",
    "sns.lineplot(x=range(1800, 2010), y='income', data=df)\n",
    "p = peaks(df['income'], 5)\n",
    "for x in np.argsort(p)[::-1][:5]:\n",
    "    x += 1800\n",
    "    plt.plot([x, x], [0, 1200])\n",
    "sns.lineplot(range(1800, 2010), p)"
   ]
  },
  {
   "cell_type": "code",
   "execution_count": 271,
   "metadata": {},
   "outputs": [
    {
     "output_type": "execute_result",
     "data": {
      "text/plain": [
       "[<matplotlib.lines.Line2D at 0x7f939b709cd0>]"
      ]
     },
     "metadata": {},
     "execution_count": 271
    },
    {
     "output_type": "display_data",
     "data": {
      "text/plain": "<Figure size 432x288 with 1 Axes>",
      "image/svg+xml": "<?xml version=\"1.0\" encoding=\"utf-8\" standalone=\"no\"?>\n<!DOCTYPE svg PUBLIC \"-//W3C//DTD SVG 1.1//EN\"\n  \"http://www.w3.org/Graphics/SVG/1.1/DTD/svg11.dtd\">\n<!-- Created with matplotlib (https://matplotlib.org/) -->\n<svg height=\"248.518125pt\" version=\"1.1\" viewBox=\"0 0 368.925 248.518125\" width=\"368.925pt\" xmlns=\"http://www.w3.org/2000/svg\" xmlns:xlink=\"http://www.w3.org/1999/xlink\">\n <defs>\n  <style type=\"text/css\">\n*{stroke-linecap:butt;stroke-linejoin:round;}\n  </style>\n </defs>\n <g id=\"figure_1\">\n  <g id=\"patch_1\">\n   <path d=\"M -0 248.518125 \nL 368.925 248.518125 \nL 368.925 0 \nL -0 0 \nz\n\" style=\"fill:none;\"/>\n  </g>\n  <g id=\"axes_1\">\n   <g id=\"patch_2\">\n    <path d=\"M 26.925 224.64 \nL 361.725 224.64 \nL 361.725 7.2 \nL 26.925 7.2 \nz\n\" style=\"fill:#ffffff;\"/>\n   </g>\n   <g id=\"matplotlib.axis_1\">\n    <g id=\"xtick_1\">\n     <g id=\"line2d_1\">\n      <defs>\n       <path d=\"M 0 0 \nL 0 3.5 \n\" id=\"m8c9825b756\" style=\"stroke:#000000;stroke-width:0.8;\"/>\n      </defs>\n      <g>\n       <use style=\"stroke:#000000;stroke-width:0.8;\" x=\"67.506818\" xlink:href=\"#m8c9825b756\" y=\"224.64\"/>\n      </g>\n     </g>\n     <g id=\"text_1\">\n      <!-- 1725 -->\n      <defs>\n       <path d=\"M 12.40625 8.296875 \nL 28.515625 8.296875 \nL 28.515625 63.921875 \nL 10.984375 60.40625 \nL 10.984375 69.390625 \nL 28.421875 72.90625 \nL 38.28125 72.90625 \nL 38.28125 8.296875 \nL 54.390625 8.296875 \nL 54.390625 0 \nL 12.40625 0 \nz\n\" id=\"DejaVuSans-49\"/>\n       <path d=\"M 8.203125 72.90625 \nL 55.078125 72.90625 \nL 55.078125 68.703125 \nL 28.609375 0 \nL 18.3125 0 \nL 43.21875 64.59375 \nL 8.203125 64.59375 \nz\n\" id=\"DejaVuSans-55\"/>\n       <path d=\"M 19.1875 8.296875 \nL 53.609375 8.296875 \nL 53.609375 0 \nL 7.328125 0 \nL 7.328125 8.296875 \nQ 12.9375 14.109375 22.625 23.890625 \nQ 32.328125 33.6875 34.8125 36.53125 \nQ 39.546875 41.84375 41.421875 45.53125 \nQ 43.3125 49.21875 43.3125 52.78125 \nQ 43.3125 58.59375 39.234375 62.25 \nQ 35.15625 65.921875 28.609375 65.921875 \nQ 23.96875 65.921875 18.8125 64.3125 \nQ 13.671875 62.703125 7.8125 59.421875 \nL 7.8125 69.390625 \nQ 13.765625 71.78125 18.9375 73 \nQ 24.125 74.21875 28.421875 74.21875 \nQ 39.75 74.21875 46.484375 68.546875 \nQ 53.21875 62.890625 53.21875 53.421875 \nQ 53.21875 48.921875 51.53125 44.890625 \nQ 49.859375 40.875 45.40625 35.40625 \nQ 44.1875 33.984375 37.640625 27.21875 \nQ 31.109375 20.453125 19.1875 8.296875 \nz\n\" id=\"DejaVuSans-50\"/>\n       <path d=\"M 10.796875 72.90625 \nL 49.515625 72.90625 \nL 49.515625 64.59375 \nL 19.828125 64.59375 \nL 19.828125 46.734375 \nQ 21.96875 47.46875 24.109375 47.828125 \nQ 26.265625 48.1875 28.421875 48.1875 \nQ 40.625 48.1875 47.75 41.5 \nQ 54.890625 34.8125 54.890625 23.390625 \nQ 54.890625 11.625 47.5625 5.09375 \nQ 40.234375 -1.421875 26.90625 -1.421875 \nQ 22.3125 -1.421875 17.546875 -0.640625 \nQ 12.796875 0.140625 7.71875 1.703125 \nL 7.71875 11.625 \nQ 12.109375 9.234375 16.796875 8.0625 \nQ 21.484375 6.890625 26.703125 6.890625 \nQ 35.15625 6.890625 40.078125 11.328125 \nQ 45.015625 15.765625 45.015625 23.390625 \nQ 45.015625 31 40.078125 35.4375 \nQ 35.15625 39.890625 26.703125 39.890625 \nQ 22.75 39.890625 18.8125 39.015625 \nQ 14.890625 38.140625 10.796875 36.28125 \nz\n\" id=\"DejaVuSans-53\"/>\n      </defs>\n      <g transform=\"translate(54.781818 239.238438)scale(0.1 -0.1)\">\n       <use xlink:href=\"#DejaVuSans-49\"/>\n       <use x=\"63.623047\" xlink:href=\"#DejaVuSans-55\"/>\n       <use x=\"127.246094\" xlink:href=\"#DejaVuSans-50\"/>\n       <use x=\"190.869141\" xlink:href=\"#DejaVuSans-53\"/>\n      </g>\n     </g>\n    </g>\n    <g id=\"xtick_2\">\n     <g id=\"line2d_2\">\n      <g>\n       <use style=\"stroke:#000000;stroke-width:0.8;\" x=\"109.779545\" xlink:href=\"#m8c9825b756\" y=\"224.64\"/>\n      </g>\n     </g>\n     <g id=\"text_2\">\n      <!-- 1750 -->\n      <defs>\n       <path d=\"M 31.78125 66.40625 \nQ 24.171875 66.40625 20.328125 58.90625 \nQ 16.5 51.421875 16.5 36.375 \nQ 16.5 21.390625 20.328125 13.890625 \nQ 24.171875 6.390625 31.78125 6.390625 \nQ 39.453125 6.390625 43.28125 13.890625 \nQ 47.125 21.390625 47.125 36.375 \nQ 47.125 51.421875 43.28125 58.90625 \nQ 39.453125 66.40625 31.78125 66.40625 \nz\nM 31.78125 74.21875 \nQ 44.046875 74.21875 50.515625 64.515625 \nQ 56.984375 54.828125 56.984375 36.375 \nQ 56.984375 17.96875 50.515625 8.265625 \nQ 44.046875 -1.421875 31.78125 -1.421875 \nQ 19.53125 -1.421875 13.0625 8.265625 \nQ 6.59375 17.96875 6.59375 36.375 \nQ 6.59375 54.828125 13.0625 64.515625 \nQ 19.53125 74.21875 31.78125 74.21875 \nz\n\" id=\"DejaVuSans-48\"/>\n      </defs>\n      <g transform=\"translate(97.054545 239.238438)scale(0.1 -0.1)\">\n       <use xlink:href=\"#DejaVuSans-49\"/>\n       <use x=\"63.623047\" xlink:href=\"#DejaVuSans-55\"/>\n       <use x=\"127.246094\" xlink:href=\"#DejaVuSans-53\"/>\n       <use x=\"190.869141\" xlink:href=\"#DejaVuSans-48\"/>\n      </g>\n     </g>\n    </g>\n    <g id=\"xtick_3\">\n     <g id=\"line2d_3\">\n      <g>\n       <use style=\"stroke:#000000;stroke-width:0.8;\" x=\"152.052273\" xlink:href=\"#m8c9825b756\" y=\"224.64\"/>\n      </g>\n     </g>\n     <g id=\"text_3\">\n      <!-- 1775 -->\n      <g transform=\"translate(139.327273 239.238438)scale(0.1 -0.1)\">\n       <use xlink:href=\"#DejaVuSans-49\"/>\n       <use x=\"63.623047\" xlink:href=\"#DejaVuSans-55\"/>\n       <use x=\"127.246094\" xlink:href=\"#DejaVuSans-55\"/>\n       <use x=\"190.869141\" xlink:href=\"#DejaVuSans-53\"/>\n      </g>\n     </g>\n    </g>\n    <g id=\"xtick_4\">\n     <g id=\"line2d_4\">\n      <g>\n       <use style=\"stroke:#000000;stroke-width:0.8;\" x=\"194.325\" xlink:href=\"#m8c9825b756\" y=\"224.64\"/>\n      </g>\n     </g>\n     <g id=\"text_4\">\n      <!-- 1800 -->\n      <defs>\n       <path d=\"M 31.78125 34.625 \nQ 24.75 34.625 20.71875 30.859375 \nQ 16.703125 27.09375 16.703125 20.515625 \nQ 16.703125 13.921875 20.71875 10.15625 \nQ 24.75 6.390625 31.78125 6.390625 \nQ 38.8125 6.390625 42.859375 10.171875 \nQ 46.921875 13.96875 46.921875 20.515625 \nQ 46.921875 27.09375 42.890625 30.859375 \nQ 38.875 34.625 31.78125 34.625 \nz\nM 21.921875 38.8125 \nQ 15.578125 40.375 12.03125 44.71875 \nQ 8.5 49.078125 8.5 55.328125 \nQ 8.5 64.0625 14.71875 69.140625 \nQ 20.953125 74.21875 31.78125 74.21875 \nQ 42.671875 74.21875 48.875 69.140625 \nQ 55.078125 64.0625 55.078125 55.328125 \nQ 55.078125 49.078125 51.53125 44.71875 \nQ 48 40.375 41.703125 38.8125 \nQ 48.828125 37.15625 52.796875 32.3125 \nQ 56.78125 27.484375 56.78125 20.515625 \nQ 56.78125 9.90625 50.3125 4.234375 \nQ 43.84375 -1.421875 31.78125 -1.421875 \nQ 19.734375 -1.421875 13.25 4.234375 \nQ 6.78125 9.90625 6.78125 20.515625 \nQ 6.78125 27.484375 10.78125 32.3125 \nQ 14.796875 37.15625 21.921875 38.8125 \nz\nM 18.3125 54.390625 \nQ 18.3125 48.734375 21.84375 45.5625 \nQ 25.390625 42.390625 31.78125 42.390625 \nQ 38.140625 42.390625 41.71875 45.5625 \nQ 45.3125 48.734375 45.3125 54.390625 \nQ 45.3125 60.0625 41.71875 63.234375 \nQ 38.140625 66.40625 31.78125 66.40625 \nQ 25.390625 66.40625 21.84375 63.234375 \nQ 18.3125 60.0625 18.3125 54.390625 \nz\n\" id=\"DejaVuSans-56\"/>\n      </defs>\n      <g transform=\"translate(181.6 239.238438)scale(0.1 -0.1)\">\n       <use xlink:href=\"#DejaVuSans-49\"/>\n       <use x=\"63.623047\" xlink:href=\"#DejaVuSans-56\"/>\n       <use x=\"127.246094\" xlink:href=\"#DejaVuSans-48\"/>\n       <use x=\"190.869141\" xlink:href=\"#DejaVuSans-48\"/>\n      </g>\n     </g>\n    </g>\n    <g id=\"xtick_5\">\n     <g id=\"line2d_5\">\n      <g>\n       <use style=\"stroke:#000000;stroke-width:0.8;\" x=\"236.597727\" xlink:href=\"#m8c9825b756\" y=\"224.64\"/>\n      </g>\n     </g>\n     <g id=\"text_5\">\n      <!-- 1825 -->\n      <g transform=\"translate(223.872727 239.238438)scale(0.1 -0.1)\">\n       <use xlink:href=\"#DejaVuSans-49\"/>\n       <use x=\"63.623047\" xlink:href=\"#DejaVuSans-56\"/>\n       <use x=\"127.246094\" xlink:href=\"#DejaVuSans-50\"/>\n       <use x=\"190.869141\" xlink:href=\"#DejaVuSans-53\"/>\n      </g>\n     </g>\n    </g>\n    <g id=\"xtick_6\">\n     <g id=\"line2d_6\">\n      <g>\n       <use style=\"stroke:#000000;stroke-width:0.8;\" x=\"278.870455\" xlink:href=\"#m8c9825b756\" y=\"224.64\"/>\n      </g>\n     </g>\n     <g id=\"text_6\">\n      <!-- 1850 -->\n      <g transform=\"translate(266.145455 239.238438)scale(0.1 -0.1)\">\n       <use xlink:href=\"#DejaVuSans-49\"/>\n       <use x=\"63.623047\" xlink:href=\"#DejaVuSans-56\"/>\n       <use x=\"127.246094\" xlink:href=\"#DejaVuSans-53\"/>\n       <use x=\"190.869141\" xlink:href=\"#DejaVuSans-48\"/>\n      </g>\n     </g>\n    </g>\n    <g id=\"xtick_7\">\n     <g id=\"line2d_7\">\n      <g>\n       <use style=\"stroke:#000000;stroke-width:0.8;\" x=\"321.143182\" xlink:href=\"#m8c9825b756\" y=\"224.64\"/>\n      </g>\n     </g>\n     <g id=\"text_7\">\n      <!-- 1875 -->\n      <g transform=\"translate(308.418182 239.238438)scale(0.1 -0.1)\">\n       <use xlink:href=\"#DejaVuSans-49\"/>\n       <use x=\"63.623047\" xlink:href=\"#DejaVuSans-56\"/>\n       <use x=\"127.246094\" xlink:href=\"#DejaVuSans-55\"/>\n       <use x=\"190.869141\" xlink:href=\"#DejaVuSans-53\"/>\n      </g>\n     </g>\n    </g>\n   </g>\n   <g id=\"matplotlib.axis_2\">\n    <g id=\"ytick_1\">\n     <g id=\"line2d_8\">\n      <defs>\n       <path d=\"M 0 0 \nL -3.5 0 \n\" id=\"m47f0d9b1c7\" style=\"stroke:#000000;stroke-width:0.8;\"/>\n      </defs>\n      <g>\n       <use style=\"stroke:#000000;stroke-width:0.8;\" x=\"26.925\" xlink:href=\"#m47f0d9b1c7\" y=\"214.756364\"/>\n      </g>\n     </g>\n     <g id=\"text_8\">\n      <!-- 0 -->\n      <g transform=\"translate(13.5625 218.555582)scale(0.1 -0.1)\">\n       <use xlink:href=\"#DejaVuSans-48\"/>\n      </g>\n     </g>\n    </g>\n    <g id=\"ytick_2\">\n     <g id=\"line2d_9\">\n      <g>\n       <use style=\"stroke:#000000;stroke-width:0.8;\" x=\"26.925\" xlink:href=\"#m47f0d9b1c7\" y=\"175.221818\"/>\n      </g>\n     </g>\n     <g id=\"text_9\">\n      <!-- 2 -->\n      <g transform=\"translate(13.5625 179.021037)scale(0.1 -0.1)\">\n       <use xlink:href=\"#DejaVuSans-50\"/>\n      </g>\n     </g>\n    </g>\n    <g id=\"ytick_3\">\n     <g id=\"line2d_10\">\n      <g>\n       <use style=\"stroke:#000000;stroke-width:0.8;\" x=\"26.925\" xlink:href=\"#m47f0d9b1c7\" y=\"135.687273\"/>\n      </g>\n     </g>\n     <g id=\"text_10\">\n      <!-- 4 -->\n      <defs>\n       <path d=\"M 37.796875 64.3125 \nL 12.890625 25.390625 \nL 37.796875 25.390625 \nz\nM 35.203125 72.90625 \nL 47.609375 72.90625 \nL 47.609375 25.390625 \nL 58.015625 25.390625 \nL 58.015625 17.1875 \nL 47.609375 17.1875 \nL 47.609375 0 \nL 37.796875 0 \nL 37.796875 17.1875 \nL 4.890625 17.1875 \nL 4.890625 26.703125 \nz\n\" id=\"DejaVuSans-52\"/>\n      </defs>\n      <g transform=\"translate(13.5625 139.486491)scale(0.1 -0.1)\">\n       <use xlink:href=\"#DejaVuSans-52\"/>\n      </g>\n     </g>\n    </g>\n    <g id=\"ytick_4\">\n     <g id=\"line2d_11\">\n      <g>\n       <use style=\"stroke:#000000;stroke-width:0.8;\" x=\"26.925\" xlink:href=\"#m47f0d9b1c7\" y=\"96.152727\"/>\n      </g>\n     </g>\n     <g id=\"text_11\">\n      <!-- 6 -->\n      <defs>\n       <path d=\"M 33.015625 40.375 \nQ 26.375 40.375 22.484375 35.828125 \nQ 18.609375 31.296875 18.609375 23.390625 \nQ 18.609375 15.53125 22.484375 10.953125 \nQ 26.375 6.390625 33.015625 6.390625 \nQ 39.65625 6.390625 43.53125 10.953125 \nQ 47.40625 15.53125 47.40625 23.390625 \nQ 47.40625 31.296875 43.53125 35.828125 \nQ 39.65625 40.375 33.015625 40.375 \nz\nM 52.59375 71.296875 \nL 52.59375 62.3125 \nQ 48.875 64.0625 45.09375 64.984375 \nQ 41.3125 65.921875 37.59375 65.921875 \nQ 27.828125 65.921875 22.671875 59.328125 \nQ 17.53125 52.734375 16.796875 39.40625 \nQ 19.671875 43.65625 24.015625 45.921875 \nQ 28.375 48.1875 33.59375 48.1875 \nQ 44.578125 48.1875 50.953125 41.515625 \nQ 57.328125 34.859375 57.328125 23.390625 \nQ 57.328125 12.15625 50.6875 5.359375 \nQ 44.046875 -1.421875 33.015625 -1.421875 \nQ 20.359375 -1.421875 13.671875 8.265625 \nQ 6.984375 17.96875 6.984375 36.375 \nQ 6.984375 53.65625 15.1875 63.9375 \nQ 23.390625 74.21875 37.203125 74.21875 \nQ 40.921875 74.21875 44.703125 73.484375 \nQ 48.484375 72.75 52.59375 71.296875 \nz\n\" id=\"DejaVuSans-54\"/>\n      </defs>\n      <g transform=\"translate(13.5625 99.951946)scale(0.1 -0.1)\">\n       <use xlink:href=\"#DejaVuSans-54\"/>\n      </g>\n     </g>\n    </g>\n    <g id=\"ytick_5\">\n     <g id=\"line2d_12\">\n      <g>\n       <use style=\"stroke:#000000;stroke-width:0.8;\" x=\"26.925\" xlink:href=\"#m47f0d9b1c7\" y=\"56.618182\"/>\n      </g>\n     </g>\n     <g id=\"text_12\">\n      <!-- 8 -->\n      <g transform=\"translate(13.5625 60.417401)scale(0.1 -0.1)\">\n       <use xlink:href=\"#DejaVuSans-56\"/>\n      </g>\n     </g>\n    </g>\n    <g id=\"ytick_6\">\n     <g id=\"line2d_13\">\n      <g>\n       <use style=\"stroke:#000000;stroke-width:0.8;\" x=\"26.925\" xlink:href=\"#m47f0d9b1c7\" y=\"17.083636\"/>\n      </g>\n     </g>\n     <g id=\"text_13\">\n      <!-- 10 -->\n      <g transform=\"translate(7.2 20.882855)scale(0.1 -0.1)\">\n       <use xlink:href=\"#DejaVuSans-49\"/>\n       <use x=\"63.623047\" xlink:href=\"#DejaVuSans-48\"/>\n      </g>\n     </g>\n    </g>\n   </g>\n   <g id=\"line2d_14\">\n    <path clip-path=\"url(#pbfb9b0d038)\" d=\"M 194.325 214.756364 \nL 194.325 17.083636 \n\" style=\"fill:none;stroke:#1f77b4;stroke-linecap:square;stroke-width:1.5;\"/>\n   </g>\n   <g id=\"patch_3\">\n    <path d=\"M 26.925 224.64 \nL 26.925 7.2 \n\" style=\"fill:none;stroke:#000000;stroke-linecap:square;stroke-linejoin:miter;stroke-width:0.8;\"/>\n   </g>\n   <g id=\"patch_4\">\n    <path d=\"M 361.725 224.64 \nL 361.725 7.2 \n\" style=\"fill:none;stroke:#000000;stroke-linecap:square;stroke-linejoin:miter;stroke-width:0.8;\"/>\n   </g>\n   <g id=\"patch_5\">\n    <path d=\"M 26.925 224.64 \nL 361.725 224.64 \n\" style=\"fill:none;stroke:#000000;stroke-linecap:square;stroke-linejoin:miter;stroke-width:0.8;\"/>\n   </g>\n   <g id=\"patch_6\">\n    <path d=\"M 26.925 7.2 \nL 361.725 7.2 \n\" style=\"fill:none;stroke:#000000;stroke-linecap:square;stroke-linejoin:miter;stroke-width:0.8;\"/>\n   </g>\n  </g>\n </g>\n <defs>\n  <clipPath id=\"pbfb9b0d038\">\n   <rect height=\"217.44\" width=\"334.8\" x=\"26.925\" y=\"7.2\"/>\n  </clipPath>\n </defs>\n</svg>\n",
      "image/png": "[encoded data removed]"
     },
     "metadata": {
      "needs_background": "light"
     }
    }
   ],
   "source": [
    "plt.plot([1800, 1800], [0, 10])"
   ]
  },
  {
   "cell_type": "code",
   "execution_count": 287,
   "metadata": {},
   "outputs": [],
   "source": [
    "def c(ys):\n",
    "    y_mean = np.mean(ys)\n",
    "    return np.sum(np.abs(ys-y_mean))\n",
    "\n",
    "def d(ys1, ys2):\n",
    "    return c(pd.concat([ys1, ys2])) - c(ys1) - c(ys2)\n",
    "\n",
    "def peaks(ys, window_size):\n",
    "    ds = [0]\n",
    "    for i in range(1, len(ys)-1):\n",
    "        # この辺よくわからん\n",
    "        if not (max(ys[i-1], ys[i+1]) < ys[i] or min(ys[i-1], ys[i+1]) > ys[i]):\n",
    "            ds.append(0)\n",
    "            continue\n",
    "        ds.append(d(ys[max(0, i-window_size//2):i], ys[i:i+window_size//2]))\n",
    "    # ds = [d(ys[max(0, i-window_size):i], ys[i:i+window_size]) for i in range(len(ys))]\n",
    "    ds.append(0)\n",
    "    return ds\n",
    "\n",
    "def trend_changes(ys, window_size):\n",
    "    grad_diff = []\n",
    "    for i in range(len(ys)):\n",
    "\n",
    "        \n",
    "    xmean = x.mean(axis=axis, keepdims=True)\n",
    "    xstd  = np.std(x, axis=axis, keepdims=True)\n",
    "    pass\n",
    "\n",
    "\n",
    "def grads(ys, window_size):\n",
    "    grads = [get_grad(ys[max(0, i-window_size//2):i+window_size//2]) for i in range(len(ys))]\n",
    "    return grads\n",
    "    \n",
    "    \n",
    "def get_grad(ys):\n",
    "    a, b = np.linalg.lstsq(np.array([[i, 1] for i in range(len(ys))]), np.array(ys))[0]\n",
    "    return a\n",
    "\n",
    "\n"
   ]
  },
  {
   "cell_type": "code",
   "execution_count": null,
   "metadata": {},
   "outputs": [],
   "source": []
  },
  {
   "cell_type": "code",
   "execution_count": 279,
   "metadata": {},
   "outputs": [
    {
     "output_type": "execute_result",
     "data": {
      "text/plain": [
       "(array([1.00000000e+00, 8.68083959e-16]),\n",
       " array([4.5829536e-30]),\n",
       " 2,\n",
       " array([17.09316714,  1.68036813]))"
      ]
     },
     "metadata": {},
     "execution_count": 279
    }
   ],
   "source": [
    "a, b = np.linalg.lstsq(np.array([[i, 1] for i in range(10)]), np.arange(10))[0]"
   ]
  },
  {
   "cell_type": "code",
   "execution_count": 280,
   "metadata": {},
   "outputs": [
    {
     "output_type": "stream",
     "text": [
      "\u001b[0;31mSignature:\u001b[0m \u001b[0mnp\u001b[0m\u001b[0;34m.\u001b[0m\u001b[0mlinalg\u001b[0m\u001b[0;34m.\u001b[0m\u001b[0mlstsq\u001b[0m\u001b[0;34m(\u001b[0m\u001b[0ma\u001b[0m\u001b[0;34m,\u001b[0m \u001b[0mb\u001b[0m\u001b[0;34m,\u001b[0m \u001b[0mrcond\u001b[0m\u001b[0;34m=\u001b[0m\u001b[0;34m'warn'\u001b[0m\u001b[0;34m)\u001b[0m\u001b[0;34m\u001b[0m\u001b[0;34m\u001b[0m\u001b[0m\n",
      "\u001b[0;31mDocstring:\u001b[0m\n",
      "Return the least-squares solution to a linear matrix equation.\n",
      "\n",
      "Solves the equation :math:`a x = b` by computing a vector `x` that\n",
      "minimizes the squared Euclidean 2-norm :math:`\\| b - a x \\|^2_2`.\n",
      "The equation may be under-, well-, or over-determined (i.e., the\n",
      "number of linearly independent rows of `a` can be less than, equal\n",
      "to, or greater than its number of linearly independent columns).\n",
      "If `a` is square and of full rank, then `x` (but for round-off error)\n",
      "is the \"exact\" solution of the equation.\n",
      "\n",
      "Parameters\n",
      "----------\n",
      "a : (M, N) array_like\n",
      "    \"Coefficient\" matrix.\n",
      "b : {(M,), (M, K)} array_like\n",
      "    Ordinate or \"dependent variable\" values. If `b` is two-dimensional,\n",
      "    the least-squares solution is calculated for each of the `K` columns\n",
      "    of `b`.\n",
      "rcond : float, optional\n",
      "    Cut-off ratio for small singular values of `a`.\n",
      "    For the purposes of rank determination, singular values are treated\n",
      "    as zero if they are smaller than `rcond` times the largest singular\n",
      "    value of `a`.\n",
      "\n",
      "    .. versionchanged:: 1.14.0\n",
      "       If not set, a FutureWarning is given. The previous default\n",
      "       of ``-1`` will use the machine precision as `rcond` parameter,\n",
      "       the new default will use the machine precision times `max(M, N)`.\n",
      "       To silence the warning and use the new default, use ``rcond=None``,\n",
      "       to keep using the old behavior, use ``rcond=-1``.\n",
      "\n",
      "Returns\n",
      "-------\n",
      "x : {(N,), (N, K)} ndarray\n",
      "    Least-squares solution. If `b` is two-dimensional,\n",
      "    the solutions are in the `K` columns of `x`.\n",
      "residuals : {(1,), (K,), (0,)} ndarray\n",
      "    Sums of residuals; squared Euclidean 2-norm for each column in\n",
      "    ``b - a*x``.\n",
      "    If the rank of `a` is < N or M <= N, this is an empty array.\n",
      "    If `b` is 1-dimensional, this is a (1,) shape array.\n",
      "    Otherwise the shape is (K,).\n",
      "rank : int\n",
      "    Rank of matrix `a`.\n",
      "s : (min(M, N),) ndarray\n",
      "    Singular values of `a`.\n",
      "\n",
      "Raises\n",
      "------\n",
      "LinAlgError\n",
      "    If computation does not converge.\n",
      "\n",
      "Notes\n",
      "-----\n",
      "If `b` is a matrix, then all array results are returned as matrices.\n",
      "\n",
      "Examples\n",
      "--------\n",
      "Fit a line, ``y = mx + c``, through some noisy data-points:\n",
      "\n",
      ">>> x = np.array([0, 1, 2, 3])\n",
      ">>> y = np.array([-1, 0.2, 0.9, 2.1])\n",
      "\n",
      "By examining the coefficients, we see that the line should have a\n",
      "gradient of roughly 1 and cut the y-axis at, more or less, -1.\n",
      "\n",
      "We can rewrite the line equation as ``y = Ap``, where ``A = [[x 1]]``\n",
      "and ``p = [[m], [c]]``.  Now use `lstsq` to solve for `p`:\n",
      "\n",
      ">>> A = np.vstack([x, np.ones(len(x))]).T\n",
      ">>> A\n",
      "array([[ 0.,  1.],\n",
      "       [ 1.,  1.],\n",
      "       [ 2.,  1.],\n",
      "       [ 3.,  1.]])\n",
      "\n",
      ">>> m, c = np.linalg.lstsq(A, y, rcond=None)[0]\n",
      ">>> m, c\n",
      "(1.0 -0.95) # may vary\n",
      "\n",
      "Plot the data along with the fitted line:\n",
      "\n",
      ">>> import matplotlib.pyplot as plt\n",
      ">>> _ = plt.plot(x, y, 'o', label='Original data', markersize=10)\n",
      ">>> _ = plt.plot(x, m*x + c, 'r', label='Fitted line')\n",
      ">>> _ = plt.legend()\n",
      ">>> plt.show()\n",
      "\u001b[0;31mFile:\u001b[0m      ~/.pyenv/versions/miniconda3-4.3.30/envs/tdb/lib/python3.7/site-packages/numpy/linalg/linalg.py\n",
      "\u001b[0;31mType:\u001b[0m      function\n"
     ],
     "name": "stdout"
    }
   ],
   "source": [
    "np.linalg.lstsq?"
   ]
  },
  {
   "cell_type": "code",
   "execution_count": 256,
   "metadata": {},
   "outputs": [
    {
     "output_type": "execute_result",
     "data": {
      "text/plain": [
       "year\n",
       "1800-01-01    472.05\n",
       "1801-01-01    472.05\n",
       "1802-01-01    472.05\n",
       "1803-01-01    472.05\n",
       "1804-01-01    472.05\n",
       "1805-01-01    472.05\n",
       "1806-01-01    472.05\n",
       "1807-01-01    472.05\n",
       "1808-01-01    472.05\n",
       "1809-01-01    472.05\n",
       "1810-01-01    472.05\n",
       "1811-01-01    472.05\n",
       "1812-01-01    472.05\n",
       "1813-01-01    472.05\n",
       "1814-01-01    472.05\n",
       "1815-01-01    472.05\n",
       "1816-01-01    472.05\n",
       "1817-01-01    472.05\n",
       "1818-01-01    472.05\n",
       "1819-01-01    472.05\n",
       "Name: income, dtype: float64"
      ]
     },
     "metadata": {},
     "execution_count": 256
    }
   ],
   "source": [
    "pd.concat([df['income'][:10], df['income'][10:20]])"
   ]
  },
  {
   "cell_type": "code",
   "execution_count": null,
   "metadata": {},
   "outputs": [],
   "source": [
    "import matplotlib.pyplot as plt \n",
    "import numpy as np \n",
    "from scipy.stats import norm \n",
    "  \n",
    "# setting the values of \n",
    "# mean and S.D. \n",
    "mean = 0\n",
    "SD = 1\n",
    "  \n",
    "# value of cdf between one, two \n",
    "# and three S.D. around the mean \n",
    "one_sd = norm.cdf(SD, mean, SD) - norm.cdf(-SD, mean, SD) \n",
    "two_sd = norm.cdf(2 * SD, mean, SD) - norm.cdf(-2 * SD, mean, SD) \n",
    "three_sd = norm.cdf(3 * SD, mean, SD) - norm.cdf(-3 * SD, mean, SD) \n",
    "  \n",
    "# printing the value of fractions \n",
    "# within each band \n",
    "print(\"Fracton of values within one SD =\", one_sd) \n",
    "print(\"Fracton of values within two SD =\", two_sd) \n",
    "print(\"Fracton of values within three SD =\", three_sd) "
   ]
  }
 ]
}